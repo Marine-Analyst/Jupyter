{
"cells": [
{
"cell_type": "markdown",
"metadata": {},
"source": [
"# EMODnet Chemistry [Points]: Seabed Litter - Material categories percentage per year\n",
"***\n",
"### Jupyter open Notebook produced by **[Marine-Analyst.eu](http://marine-analyst.eu)**. Metadata record is available at dataset **[landing page](http://marine-analyst.eu/dev.py?N=simple&O=758)**.\n",
"***\n",
"The Marine-Analyst provides augmented data access and reproducible data analysis for marine data. The Marine Analyst is intended for the general public with a focus on educational content. It allows students, teachers and academia to access marine knowledge. Marine topics are developed under the web portal main menu.\n",
"The Marine Analyst is an essential tool for oceanographers, scientists, engineers, managers and policy-makers who are analysing the state and dynamics of Europe's seas. The Marine Analyst Jupyter hub provides you with usefull data analysis codes.\n",
"Alternatively you can manage your analyses and download links for your data selections via a **[personal dashboard](http://marine-analyst.eu/dev.py?N=simple&O=638&layer=520)**.\n",

"This Jupyter notebook is licensed under the **[MIT License](https://github.com/Marine-Analyst/Jupyter/blob/main/LICENSE)**. "
]
},
{
"cell_type": "code",
"execution_count": null,
"metadata": {},
"outputs": [],
"source": [
"# Edit the longitude and latitude coordinates to define the geographical area:\n",
"###################################\n",
"minlon=11.3 #minimum longitude\n",
"minlat=53.6 #minimum latitude\n",
"maxlon=15.5 #maximum longitude\n",
"maxlat=55.9 #maximum latitude\n",
"###################################\n",
"# This Jupyter Notebook has been automatically generated from R Markdown Notebook and may contain inconsistencies.\n",
"# Edit it, execute it and save it as HTML document.\n",
"# Anytime you have a question, a suggestion or an issue, you can contact us at my-beach@knowcean.eu.\n",
"# Your collaboration is highly appreciated!\n",
"###################################\n",
"wdpaid=paste(minlon,minlat,maxlon,maxlat,sep=\"_\")\n",
"wdpaidsplit <- unlist(strsplit(wdpaid, \"[_]\"))\n",
"xmin <- as.numeric(wdpaidsplit[1])\n",
"ymin <- as.numeric(wdpaidsplit[2])\n",
"xmax <- as.numeric(wdpaidsplit[3])\n",
"ymax <- as.numeric(wdpaidsplit[4])\n",
"Sessionid<-\"JupyterNotebook758\""
]
},
{
"cell_type": "code",
"execution_count": null,
"metadata": {},
"outputs": [],
"source": [
"source_provider <- \"EMODnet Chemistry\"\n",
"source_provider_url <- \"https://www.emodnet.eu\"\n",
"layer_title<-\"Seabed Litter - Material categories percentage per year\"\n",
"layer=\"sb_materialcategories_cleaning\"\n",
"wfs_url <- \"https://www.ifremer.fr/services/wfs/emodnet_chemistry2?\"\n",
"wms_url <- \"https://www.ifremer.fr/services/wms/emodnet_chemistry2?\"\n",
"wms_layer=\"sb_materialcategories_cleaning\"\n",
"layer_id<-758\n",
"map_legend <- \"year\"\n",
"map_legend_list <- c(\"cloth_perc\",\"glass_perc\",\"metal_perc\",\"miscellaneous_perc\",\"natural_perc\",\"other_perc\",\"paper_perc\",\"plastic_perc\",\"rubber_perc\",\"wood_perc\")\n",
"map_legend_list_title <- c(\"Seabed Litter - 'Clothes' percentage per year\",\"Seabed Litter - 'Glass' percentage per year\",\"Seabed Litter - 'Metal' percentage per year\",\"Seabed Litter - 'Miscellaneous' percentage per year\",\"Seabed Litter - 'Natural' percentage per year\",\"Seabed Litter - 'Other' percentage per year\",\"Seabed Litter - 'Paper' percentage per year\",\"Seabed Litter - 'Plastic' percentage per year\",\"Seabed Litter - 'Rubber' percentage per year\",\"Seabed Litter - 'Wood' percentage per year\")\n",
"map_label<-\"survey_id\"\n",
"link_csv<-paste0(\"./Report-\", layer_id, \"_\", Sessionid, \"_\", wdpaid, \"-csvfile.csv\",sep=\"\")\n",
"csvfile_name = paste(\"Report-\", layer_id, \"_\", Sessionid, \"_\", wdpaid, \"-csvfile.csv\",sep=\"\")\n",
"link_geojson<-paste0(\"./Report-\", layer_id, \"_\", Sessionid, \"_\", wdpaid, \"-geojsonfile.geojson\",sep=\"\")\n",
"geojsonfile_name = paste(\"Report-\", layer_id, \"_\", Sessionid, \"_\", wdpaid, \"-geojsonfile.geojson\",sep=\"\")\n",
"temp_path<- \".\""
]
},
{
"cell_type": "code",
"execution_count": null,
"metadata": {},
"outputs": [],
"source": [
"library(rgdal)\n",
"library(downloader)\n",
"library(ggplot2)\n",
"library(mapdata)\n",
"library(ggmap)\n",
"library(ggrepel)\n",
"library(ows4R) # interface for OGC webservices\n",
"library(httr) # generic webservice package (build_url)\n",
"library(sf) # simple features packages for handling vector GIS data\n",
"library(tidyverse) # a suite of packages for data wrangling, transformation, plotting, ...\n",
"library(rasterVis)\n",
"library(rgeos)\n",
"library(sp)\n",
"library(raster)"
]
},
{
"cell_type": "markdown",
"metadata": {},
"source": [
"# Data information"
]
},
{
"cell_type": "raw",
"metadata": {},
"source": [
"This visualization product shows marine litter material categories percentage per trawl per year. EMODnet Chemistry included the gathering of marine litter in its 3rd phase. Since the beginning of 2018, data of seafloor litter collected by international fish-trawl surveys have been gathered and processed in the EMODnet Chemistry Marine Litter Database (MLDB). The harmonization of all the data has been the most challenging task considering the heterogeneity of the data sources, sampling protocols (OSPAR and MEDITS protocols) and reference lists used on a European scale. Moreover, within the same protocol, different gear types are deployed during fishing bottom trawl surveys. Harmonization of the material categories between ICES and MEDITS lists has been performed and the following calculation has been applied : Material % = (total number of items of each material category)/(total number of item of all material categories)*100 More information is available in the document attached."
]
},
{
"cell_type": "code",
"execution_count": null,
"metadata": {},
"outputs": [],
"source": [
"# Script for Wekeo environment\n",
"sr=SpatialPolygons(list(Polygons(list(Polygon(cbind(c(xmin, xmin, xmax, xmax),c(ymax, ymin, ymin, ymax)))),\"1\")))\n",
"mpa=SpatialPolygonsDataFrame(sr, data.frame(cbind(1:1), row.names=c(\"1\")))\n",
"proj4string(mpa)<-CRS(\"+proj=longlat +datum=WGS84\")\n",
"bbox<-paste(xmin,ymin,xmax,ymax,sep=\",\")"
]
},
{
"cell_type": "code",
"execution_count": null,
"metadata": {},
"outputs": [],
"source": [
"# Link to Marine Analyst dataset page\n",
"link_marineanalyst <- paste0(\"http://marine-analyst.eu/dev.py?N=simple&O=\",layer_id,\"&maxlat=\",ymax,\"&maxlon=\",xmax,\"&minlon=\",xmin,\"&minlat=\",ymin)\n",
"# Link to open the openlayer page for EMODnet HA\n",
"openlayer<-paste0(\"http://www.marine-analyst.eu/openlayers3/openlayer.py?wms_url=\",wms_url,\"/wms&wms_layer=\",layer,\"&bbox=\",bbox)"
]
},
{
"cell_type": "markdown",
"metadata": {},
"source": [
"## Metadata"
]
},
{
"cell_type": "raw",
"metadata": {},
"source": [
"Access <A HREF=`r toString(link_marineanalyst)` TARGET=_blank>metadata</A> from landing page<br>"
]
},
{
"cell_type": "markdown",
"metadata": {},
"source": [
"# Geographical extent"
]
},
{
"cell_type": "markdown",
"metadata": {},
"source": [
"## Coordinates"
]
},
{
"cell_type": "raw",
"metadata": {},
"source": [
"<A HREF=`r toString(link_marineanalyst)` TARGET=_blank>"
]
},
{
"cell_type": "code",
"execution_count": null,
"metadata": {},
"outputs": [],
"source": [
"print (paste(\"West-Longitude:\",round(xmin,2)))\n",
"print (paste(\"South-Latitude:\",round(ymin,2)))\n",
"print (paste(\"East-Longitude:\",round(xmax,2)))\n",
"print (paste(\"North-Latitude:\",round(ymax,2)))"
]
},
{
"cell_type": "raw",
"metadata": {},
"source": [
"</a>"
]
},
{
"cell_type": "markdown",
"metadata": {},
"source": [
"## Defined area"
]
},
{
"cell_type": "code",
"execution_count": null,
"metadata": {},
"outputs": [],
"source": [
"value<-(xmax-xmin)*(ymax-ymin)\n",
"if (value > 100) {\n",
"      zoom_value<-6\n",
"} else if (value > 1) {\n",
"      zoom_value<-7\n",
"} else {\n",
"      zoom_value<-8\n",
"}\n",
"base<-get_map(location=c(xmin-1,ymin-1,xmax+1,ymax+1), zoom=zoom_value, maptype=\"terrain-background\", source = \"stamen\")\n",
"terrain <- ggmap(base)\n",
"map <- terrain + geom_polygon(data=mpa,aes(x=long,y=lat,group=group,fill=\"mpa\"),colour=\"green\",fill=\"blue\",alpha=.1) +\n",
"ggtitle(\"\")+xlab(\"Longitude\")+ylab(\"Latitude\")\n",
"plot(map)"
]
},
{
"cell_type": "raw",
"metadata": {},
"source": [
"Map tiles by <a href=\"http://stamen.com\">Stamen Design</a>, under <a href=\"http://creativecommons.org/licenses/by/3.0\">CC BY 3.0</a>. Data by <a href=\"http://openstreetmap.org\">OpenStreetMap</a>, under <a href=\"http://www.openstreetmap.org/copyright\">ODbL</a>."
]
},
{
"cell_type": "markdown",
"metadata": {},
"source": [
"# `r toString(layer_title)`"
]
},
{
"cell_type": "markdown",
"metadata": {},
"source": [
"## Access data"
]
},
{
"cell_type": "raw",
"metadata": {},
"source": [
"The Web Feature Service (WFS) of the `r toString(source_provider)` portal allows collecting the data:<BR><A HREF=\n",
"`r toString(wfs_url)`service=WFS&request=GetCapabilities&version=1.1.0 TARGET=_blank>`r toString(wfs_url)`service=WFS&request=GetCapabilities&version=1.1.0</A>\n",
"<BR><BR>**Available labels:**"
]
},
{
"cell_type": "code",
"execution_count": null,
"metadata": {},
"outputs": [],
"source": [
"# define a function for the DescribeFeatureType request\n",
"url <- parse_url(wfs_url)\n",
"url$query <- list(service = \"WFS\",\n",
"                  version = \"1.0.0\",\n",
"                  request = \"GetCapabilities\")\n",
"request <- build_url(url)\n",
"WFSserver_client <- WFSClient$new(wfs_url, serviceVersion = \"1.0.0\")\n",
"# list of Feature type\n",
"WFS_Colnames <- WFSserver_client$\n",
"  getCapabilities()$\n",
"  findFeatureTypeByName(layer)$\n",
"  getDescription() %>%\n",
"  map_chr(function(x){x$getName()})\n",
"WFS_Colnames"
]
},
{
"cell_type": "code",
"execution_count": null,
"metadata": {},
"outputs": [],
"source": [
"url$query <- list(service = \"wfs\",\n",
"                  version = \"1.0.0\",\n",
"                  request = \"GetFeature\",\n",
"                  typename = layer,\n",
"                  srsName = \"EPSG:4326\",\n",
"                  outputFormat = \"GML3\")\n",
"request <- build_url(url)\n",
"wfs_data <- read_sf(request)\n",
"#Transform mpa in Simple feature collection to perform the subsetting because wfs_data contains the whole info - use bbox and tyname are exclusive (Mapserver)\n",
"mpaSP <- as(mpa, \"SpatialPolygonsDataFrame\")\n",
"wfs_data<-wfs_data[st_as_sf(mpaSP),]\n",
"# get the geometry as lat and lon cols\n",
"wfs_data <- wfs_data %>% dplyr::mutate(lat = sf::st_coordinates(.)[,1],lon = sf::st_coordinates(.)[,2])"
]
},
{
"cell_type": "code",
"execution_count": null,
"metadata": {},
"outputs": [],
"source": [
"st_write(wfs_data, file.path(temp_path,csvfile_name), layer = csvfile_name, driver = \"csv\", delete_dsn = TRUE)\n",
"st_write(wfs_data, file.path(temp_path,geojsonfile_name), layer = geojsonfile_name, driver = \"GeoJSON\", delete_dsn = TRUE)"
]
},
{
"cell_type": "raw",
"metadata": {},
"source": [
"<br>**Download data for the defined geographical extent:**<br>\n",
"\n",
"<TABLE BORDER=1 WIDTH=100%>\n",
"<TR>\n",
"<TD ALIGN=CENTER>Excel file</TD>\n",
"<TD ALIGN=CENTER>Geographic information</TD>\n",
"</TR>\n",
"<TR>\n",
"<TD ALIGN=CENTER><A HREF=`r toString(link_csv)`>**csv**</A></TD>\n",
"<TD ALIGN=CENTER><A HREF=`r toString(link_geojson)` TARGET=_blank>**geojson**</A></TD>\n",
"</TR>\n",
"</TABLE>"
]
},
{
"cell_type": "markdown",
"metadata": {},
"source": [
"## Table"
]
},
{
"cell_type": "raw",
"metadata": {},
"source": [
"Browse table's columns by using the left and right arrows. Turn the table's pages with help of the previous/next buttons.<br><br>"
]
},
{
"cell_type": "code",
"execution_count": null,
"metadata": {},
"outputs": [],
"source": [
"if(nrow(wfs_data) > 0) {\n",
"wfs_data\n",
"} else {\n",
"print(\"No data available for the defined geographical extent\")\n",
"}"
]
},
{
"cell_type": "markdown",
"metadata": {},
"source": [
"## Maps"
]
},
{
"cell_type": "code",
"execution_count": null,
"metadata": {},
"outputs": [],
"source": [
"if(nrow(wfs_data) > 0) {\n",
"for (data in 1:length(map_legend_list)){\n",
"map_legend_item <-map_legend_list[data]\n",
"map_legend_item_title <-map_legend_list_title[data]\n",
"map <- ggplot() +\n",
"borders(\"worldHires\", fill = \"gray\", colour = \"black\", xlim = range(xmin,xmax), ylim = range(ymin,ymax), size = .25) +\n",
"theme(legend.position = \"bottom\") +\n",
"    theme(panel.grid.minor.y= element_blank(), panel.grid.minor.x = element_blank()) +\n",
"    geom_polygon(data=mpa,aes(x=long,y=lat,group=group,fill=\"mpa\"),colour=\"green\",fill=\"blue\",alpha=.1) +\n",
"geom_sf() +\n",
"geom_point(data = wfs_data, aes(x = lat, y = lon, size =.data[[map_legend_item]]), fill = \"red\", color = \"red\", alpha = .4) +\n",
"coord_sf(xlim = c(xmin, xmax),ylim = c(ymin, ymax))+\n",
"ggtitle(map_legend_item_title)+xlab(\"Longitude (x)\")+ylab(\"Latitude (y)\")\n",
"plot(map)\n",
"}\n",
"} else {\n",
"print(\"No data available for the defined geographical extent\")\n",
"}"
]
},
{
"cell_type": "markdown",
"metadata": {},
"source": [
"## Map with id"
]
},
{
"cell_type": "code",
"execution_count": null,
"metadata": {},
"outputs": [],
"source": [
"if(nrow(wfs_data) > 0) {\n",
"centroid<- st_centroid(wfs_data)\n",
"centroid<- cbind(wfs_data, st_coordinates(st_centroid(wfs_data$geometry)))\n",
"map <- ggplot() +\n",
"    borders(\"worldHires\", fill = \"gray\", colour = \"black\", xlim = range(xmin,xmax), ylim = range(ymin,ymax), size = .25) +\n",
"theme(legend.position = \"bottom\") +\n",
"    theme(panel.grid.minor.y= element_blank(), panel.grid.minor.x = element_blank()) +\n",
"    geom_polygon(data=mpa,aes(x=long,y=lat,group=group,fill=\"mpa\"),colour=\"green\",fill=\"blue\",alpha=.1) +\n",
"    geom_sf() +\n",
"    geom_point(data = wfs_data, aes(x = lat, y = lon), fill = \"blue\", color = \"blue\", alpha = .4) +\n",
"    geom_text(data=centroid,aes(x=lat, y=lon, label=.data[[map_label]]), color = \"black\", fontface = \"bold\", size=2, hjust= 0, vjust=2, check_overlap = TRUE) +\n",
"    coord_sf(xlim = c(xmin, xmax),ylim = c(ymin, ymax))+\n",
"    ggtitle(\"\")+xlab(\"Longitude (x)\")+ylab(\"Latitude (y)\")\n",
"map\n",
"} else {\n",
"print(\"No data available for the defined geographical extent\")\n",
"}"
]
},
{
"cell_type": "markdown",
"metadata": {},
"source": [
"## Interactive map"
]
},
{
"cell_type": "raw",
"metadata": {},
"source": [
"Visualise and access data with <A HREF=`r toString(openlayer)` TARGET=_blank>Openlayer (click on the map)<BR>"
]
},
{
"cell_type": "code",
"execution_count": null,
"metadata": {},
"outputs": [],
"source": [
"if(nrow(wfs_data) > 0) {\n",
"getWMSlegend<-function (wms_layer)\n",
"{\n",
"wms_layer<-as.character(wms_layer)\n",
"con<-paste0(wms_url,\"service=WMS&request=GetLegendGraphic&STYLE=default&sld_version=1.1.0&version=1.3.0&format=image/jpeg&transparent=false&layer=\",wms_layer,\"\")\n",
"print(con)\n",
"        legend<- \"img.png\"\n",
"        legend <- tempfile(legend)\n",
"        download(con, legend, quiet = TRUE, mode = \"wb\")\n",
"        img <- brick(legend)\n",
"return(img)\n",
"}\n",
"wms_legend<-getWMSlegend(wms_layer)\n",
"getWMSmap<-function (wms_layer,xmin,xmax,ymin,ymax)\n",
"{\n",
"width <- 960\n",
"height <- as.integer(width * (ymax-ymin) / (xmax-xmin))\n",
"wms_layer<-as.character(wms_layer)\n",
"bbox <- paste(xmin, ymin, xmax, ymax, sep = \",\")\n",
"con<-paste0(wms_url,\"/wms?SERVICE=WMS&VERSION=1.1.0&request=GetMap&layers=\",wms_layer,\"&format=image/jpeg&srs=EPSG:4326&bbox=\",bbox,\"&height=\",height,\"&width=\",width,\"\")\n",
"        wms <- \"img.png\"\n",
"        wms <- tempfile(wms)\n",
"        download(con, wms, quiet = TRUE, mode = \"wb\")\n",
"        img <- brick(wms)\n",
"names(img) <- c(\"img.1\", \"img.2\", \"img.3\")\n",
"img[img$img.1 == 255 & img$img.2 == 255 & img$img.3 == 255] <- NA\n",
"wms_basemap_url=\"http://www.gebco.net/data_and_products/gebco_web_services/web_map_service/mapserv\"\n",
"wms_basemap_layer=\"gebco_latest\"\n",
"con<-paste0(wms_basemap_url,\"?SERVICE=WMS&VERSION=1.1.0&request=GetMap&layers=\",wms_basemap_layer,\"&format=image/png&srs=EPSG:4326&bbox=\",bbox,\"&height=\",height,\"&width=\",width,\"\")\n",
"        wms <- \"img.png\"\n",
"        wms <- tempfile(wms)\n",
"        download(con, wms, quiet = TRUE, mode = \"wb\")\n",
"        basemap <- brick(wms)\n",
"names(basemap) <- c(\"img.1\", \"img.2\", \"img.3\")\n",
"img <- merge(basemap,img)\n",
"img@extent@xmin <- xmin\n",
"img@extent@ymin <- ymin\n",
"img@extent@xmax <- xmax\n",
"img@extent@ymax <- ymax\n",
"proj4string(img)<-CRS(\"+proj=longlat +datum=WGS84\")\n",
"return(img)\n",
"}\n",
"wms_img<-getWMSmap(wms_layer,xmin,xmax,ymin,ymax)\n",
"rggbplot <- function(inRGBRst,npix=NA,scale = 'lin'){\n",
"  rgblinstretch <- function(rgbDf){\n",
"    maxList <- apply(rgbDf,2,max)\n",
"    minList <- apply(rgbDf,2,min)\n",
"    temp<-rgbDf\n",
"    for(i in c(1:3)){\n",
"      temp[,i] <- (temp[,i]-minList[i])/(maxList[i]-minList[i])\n",
"    }\n",
"    return(temp)\n",
"  }\n",
"  rgbeqstretch<-function(rgbDf){\n",
"    temp<-rgbDf\n",
"    for(i in c(1:3)){\n",
"      unique <- na.omit(temp[,i])\n",
"      if (length(unique>0)){\n",
"        ecdf<-ecdf(unique)\n",
"        temp[,i] <- apply(temp[,i,drop=FALSE],2,FUN=function(x) ecdf(x))\n",
"      }\n",
"    }\n",
"    return(temp)\n",
"  }\n",
"      npix <- ncell(inRGBRst)\n",
"  x <- sampleRegular(inRGBRst, size=npix, asRaster = TRUE)\n",
"  dat <- as.data.frame(x, xy=TRUE)\n",
"  colnames(dat)[3:5]<-c('r','g','b')\n",
"  if(scale=='lin'){\n",
"    dat[,3:5]<- rgblinstretch(dat[,3:5])\n",
"  } else if(scale=='stretch'){\n",
"    dat[,3:5]<- rgbeqstretch(dat[,3:5])\n",
"  }\n",
"  p <- ggplot()+ geom_tile(data=dat, aes(x=x, y=y, fill=rgb(r,g,b))) + scale_fill_identity()\n",
"}\n",
"}"
]
},
{
"cell_type": "code",
"execution_count": null,
"metadata": {},
"outputs": [],
"source": [
"if(nrow(wfs_data) > 0) {\n",
"map <- rggbplot(wms_img)+\n",
"#borders(\"worldHires\", fill = \"gray\", colour = \"black\", xlim = range(xmin,xmax), ylim = range(ymin,ymax), size = .25) +\n",
"coord_quickmap(xlim=range(xmin,xmax),ylim=range(ymin,ymax))+\n",
"ggtitle(layer_title)+xlab(\"Longitude\")+ylab(\"Latitude\")\n",
"plot(map)\n",
"legend <- rggbplot(wms_legend) + ggtitle(\"Legend\") +\n",
"    theme(axis.title.x=element_blank(),\n",
"          axis.text.x=element_blank(),\n",
"          axis.ticks.x=element_blank()) +\n",
"theme(axis.title.y=element_blank(),\n",
"          axis.text.y=element_blank(),\n",
"          axis.ticks.y=element_blank()) +\n",
"coord_fixed()\n",
"plot(legend)\n",
"} else {\n",
"print(\"No data available for the defined geographical extent\")\n",
"}"
]
},
{
"cell_type": "raw",
"metadata": {},
"source": [
"</a>"
]
}
],"metadata": {
  "kernelspec": {
   "display_name": "R",
   "language": "R",
   "name": "ir"
  },
  "language_info": {
   "codemirror_mode": "r",
   "file_extension": ".r",
   "mimetype": "text/x-r-source",
   "name": "R",
   "pygments_lexer": "r",
   "version": "3.6.1"
  }
 },
 "nbformat": 4,
 "nbformat_minor": 2
}